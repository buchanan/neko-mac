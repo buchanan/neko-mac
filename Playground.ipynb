{
 "cells": [
  {
   "cell_type": "markdown",
   "metadata": {},
   "source": [
    "# Refactor: NekoState SSOT"
   ]
  },
  {
   "cell_type": "markdown",
   "metadata": {},
   "source": [
    "## Generate sprite list"
   ]
  },
  {
   "cell_type": "code",
   "execution_count": 3,
   "metadata": {},
   "outputs": [
    {
     "name": "stdout",
     "output_type": "stream",
     "text": [
      "upleft 2\n",
      "up 2\n",
      "kaki 2\n",
      "utogi 2\n",
      "jare 2\n",
      "right 2\n",
      "rtogi 2\n",
      "dwright 2\n",
      "upright 2\n",
      "ltogi 2\n",
      "awake 1\n",
      "mati 3\n",
      "down 2\n",
      "sleep 2\n",
      "left 2\n",
      "dtogi 2\n",
      "dwleft 2\n"
     ]
    }
   ],
   "source": [
    "from collections import defaultdict\n",
    "from pathlib import Path\n",
    "\n",
    "\n",
    "def x():\n",
    "  dick = defaultdict(lambda: 1)\n",
    "  for f in Path(\"Resources\").glob(\"*.gif\"):\n",
    "    name = f.stem\n",
    "    if name[-1].isdigit():\n",
    "      dick[name[:-1]] = max(dick[name[:-1]], int(name[-1]))\n",
    "    else:\n",
    "      dick[name] = 1\n",
    "  for k, v in dick.items():\n",
    "    print(k, v)\n",
    "x()"
   ]
  },
  {
   "cell_type": "markdown",
   "metadata": {},
   "source": [
    "## Alternative approach: dynamic"
   ]
  },
  {
   "cell_type": "markdown",
   "metadata": {},
   "source": [
    "Slow, ugly, and unstable."
   ]
  },
  {
   "cell_type": "code",
   "execution_count": null,
   "metadata": {},
   "outputs": [],
   "source": [
    "# unsigned int count;\n",
    "# Class stateHolder = object_getClass([NekoState class]);\n",
    "# objc_property_t *props = class_copyPropertyList(stateHolder, &count);\n",
    "# NSLog(@\"qwq %d\", count);\n",
    "# while (count-- > 0) {\n",
    "#     const char *propName = property_getName(props[count]);\n",
    "#     NSLog(@\"prop %s\", propName);\n",
    "#     NSLog(@\"add: %d\", class_addMethod(\n",
    "#         stateHolder,\n",
    "#         sel_registerName(propName),\n",
    "#         (IMP)meow,\n",
    "#         \"i@:\"\n",
    "#     ));\n",
    "# }\n",
    "# NSLog(@\"qwq: %d\", [NekoState qwq]);\n",
    "#\n",
    "# NekoState *meow(id self, SEL selector) {\n",
    "#     static NSMutableDictionary<NSValue *, NekoState *> *dict = nil;\n",
    "#     if (dict == nil) {\n",
    "#         dict = [NSMutableDictionary new];\n",
    "#     }\n",
    "#     NSValue *dictKey = [NSValue valueWithPointer:selector];\n",
    "#     NekoState *result = dict[dictKey];\n",
    "#     if (result != nil) {\n",
    "#         return result;\n",
    "#     }\n",
    "#     NSString *name = NSStringFromSelector(selector);\n",
    "#     name = kCatStateReuseMap[name] ?: name;\n",
    "#     NSMutableArray<NSImage *> *images = [NSMutableArray new];\n",
    "#     [images addObject:[ // TODO: list size, kinds...\n",
    "#         [NSImage alloc] initWithContentsOfFile:[\n",
    "#             NSBundle.mainBundle pathForResource:name\n",
    "#                                          ofType:@\"gif\"\n",
    "#         ]\n",
    "#     ]];\n",
    "#     NSLog(@\"%@ %@\", self, name);\n",
    "#     result = [[NekoState alloc] initWithImages:images\n",
    "#                                           kind:0];\n",
    "#     dict[dictKey] = result;\n",
    "#     return result;\n",
    "# }"
   ]
  }
 ],
 "metadata": {
  "kernelspec": {
   "display_name": "Python 3",
   "language": "python",
   "name": "python3"
  },
  "language_info": {
   "codemirror_mode": {
    "name": "ipython",
    "version": 3
   },
   "file_extension": ".py",
   "mimetype": "text/x-python",
   "name": "python",
   "nbconvert_exporter": "python",
   "pygments_lexer": "ipython3",
   "version": "3.9.6"
  }
 },
 "nbformat": 4,
 "nbformat_minor": 2
}
